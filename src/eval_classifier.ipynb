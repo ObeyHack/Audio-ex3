{
 "cells": [
  {
   "metadata": {
    "jupyter": {
     "is_executing": true
    }
   },
   "cell_type": "code",
   "source": [
    "%load_ext autoreload\n",
    "%autoreload 2"
   ],
   "id": "38660f279da6c21f",
   "outputs": [],
   "execution_count": null
  },
  {
   "metadata": {},
   "cell_type": "markdown",
   "source": "# Loading Data",
   "id": "9b217db19cf754ee"
  },
  {
   "metadata": {
    "ExecuteTime": {
     "end_time": "2024-07-17T19:59:31.769824Z",
     "start_time": "2024-07-17T19:58:05.353817Z"
    }
   },
   "cell_type": "code",
   "source": [
    "import loader\n",
    "data_loader = loader.load_data()"
   ],
   "id": "34c86825a676dbdd",
   "outputs": [],
   "execution_count": 2
  },
  {
   "metadata": {},
   "cell_type": "markdown",
   "source": "# Create the classifier and train it",
   "id": "43de8bcb4c1b3f50"
  },
  {
   "metadata": {
    "ExecuteTime": {
     "end_time": "2024-07-17T20:11:20.323010Z",
     "start_time": "2024-07-17T20:11:19.022953Z"
    }
   },
   "cell_type": "code",
   "source": [
    "import classifier\n",
    "import lightning as L\n",
    "model = classifier.NeuralNetwork()\n",
    "trainer = L.Trainer(accelerator=\"auto\", devices=\"auto\", strategy=\"auto\")\n",
    "trainer.fit(model, data_loader['train'], data_loader['val'])"
   ],
   "id": "37ecf2e24e9612de",
   "outputs": [
    {
     "ename": "KeyboardInterrupt",
     "evalue": "",
     "output_type": "error",
     "traceback": [
      "\u001B[1;31m---------------------------------------------------------------------------\u001B[0m",
      "\u001B[1;31mKeyboardInterrupt\u001B[0m                         Traceback (most recent call last)",
      "Cell \u001B[1;32mIn[12], line 4\u001B[0m\n\u001B[0;32m      2\u001B[0m \u001B[38;5;28;01mimport\u001B[39;00m \u001B[38;5;21;01mlightning\u001B[39;00m \u001B[38;5;28;01mas\u001B[39;00m \u001B[38;5;21;01mL\u001B[39;00m\n\u001B[0;32m      3\u001B[0m model \u001B[38;5;241m=\u001B[39m classifier\u001B[38;5;241m.\u001B[39mNeuralNetwork()\n\u001B[1;32m----> 4\u001B[0m trainer \u001B[38;5;241m=\u001B[39m \u001B[43mL\u001B[49m\u001B[38;5;241;43m.\u001B[39;49m\u001B[43mTrainer\u001B[49m\u001B[43m(\u001B[49m\u001B[43maccelerator\u001B[49m\u001B[38;5;241;43m=\u001B[39;49m\u001B[38;5;124;43m\"\u001B[39;49m\u001B[38;5;124;43mauto\u001B[39;49m\u001B[38;5;124;43m\"\u001B[39;49m\u001B[43m,\u001B[49m\u001B[43m \u001B[49m\u001B[43mdevices\u001B[49m\u001B[38;5;241;43m=\u001B[39;49m\u001B[38;5;124;43m\"\u001B[39;49m\u001B[38;5;124;43mauto\u001B[39;49m\u001B[38;5;124;43m\"\u001B[39;49m\u001B[43m,\u001B[49m\u001B[43m \u001B[49m\u001B[43mstrategy\u001B[49m\u001B[38;5;241;43m=\u001B[39;49m\u001B[38;5;124;43m\"\u001B[39;49m\u001B[38;5;124;43mauto\u001B[39;49m\u001B[38;5;124;43m\"\u001B[39;49m\u001B[43m)\u001B[49m\n\u001B[0;32m      5\u001B[0m trainer\u001B[38;5;241m.\u001B[39mfit(model, data_loader[\u001B[38;5;124m'\u001B[39m\u001B[38;5;124mtrain\u001B[39m\u001B[38;5;124m'\u001B[39m], data_loader[\u001B[38;5;124m'\u001B[39m\u001B[38;5;124mval\u001B[39m\u001B[38;5;124m'\u001B[39m])\n",
      "File \u001B[1;32mD:\\Documents\\GitHub\\Audio-ex3\\.venv\\lib\\site-packages\\lightning\\pytorch\\utilities\\argparse.py:70\u001B[0m, in \u001B[0;36m_defaults_from_env_vars.<locals>.insert_env_defaults\u001B[1;34m(self, *args, **kwargs)\u001B[0m\n\u001B[0;32m     67\u001B[0m kwargs \u001B[38;5;241m=\u001B[39m \u001B[38;5;28mdict\u001B[39m(\u001B[38;5;28mlist\u001B[39m(env_variables\u001B[38;5;241m.\u001B[39mitems()) \u001B[38;5;241m+\u001B[39m \u001B[38;5;28mlist\u001B[39m(kwargs\u001B[38;5;241m.\u001B[39mitems()))\n\u001B[0;32m     69\u001B[0m \u001B[38;5;66;03m# all args were already moved to kwargs\u001B[39;00m\n\u001B[1;32m---> 70\u001B[0m \u001B[38;5;28;01mreturn\u001B[39;00m fn(\u001B[38;5;28mself\u001B[39m, \u001B[38;5;241m*\u001B[39m\u001B[38;5;241m*\u001B[39mkwargs)\n",
      "File \u001B[1;32mD:\\Documents\\GitHub\\Audio-ex3\\.venv\\lib\\site-packages\\lightning\\pytorch\\trainer\\trainer.py:430\u001B[0m, in \u001B[0;36mTrainer.__init__\u001B[1;34m(self, accelerator, strategy, devices, num_nodes, precision, logger, callbacks, fast_dev_run, max_epochs, min_epochs, max_steps, min_steps, max_time, limit_train_batches, limit_val_batches, limit_test_batches, limit_predict_batches, overfit_batches, val_check_interval, check_val_every_n_epoch, num_sanity_val_steps, log_every_n_steps, enable_checkpointing, enable_progress_bar, enable_model_summary, accumulate_grad_batches, gradient_clip_val, gradient_clip_algorithm, deterministic, benchmark, inference_mode, use_distributed_sampler, profiler, detect_anomaly, barebones, plugins, sync_batchnorm, reload_dataloaders_every_n_epochs, default_root_dir)\u001B[0m\n\u001B[0;32m    426\u001B[0m \u001B[38;5;28mself\u001B[39m\u001B[38;5;241m.\u001B[39maccumulate_grad_batches \u001B[38;5;241m=\u001B[39m accumulate_grad_batches\n\u001B[0;32m    428\u001B[0m \u001B[38;5;66;03m# init callbacks\u001B[39;00m\n\u001B[0;32m    429\u001B[0m \u001B[38;5;66;03m# Declare attributes to be set in _callback_connector on_trainer_init\u001B[39;00m\n\u001B[1;32m--> 430\u001B[0m \u001B[38;5;28;43mself\u001B[39;49m\u001B[38;5;241;43m.\u001B[39;49m\u001B[43m_callback_connector\u001B[49m\u001B[38;5;241;43m.\u001B[39;49m\u001B[43mon_trainer_init\u001B[49m\u001B[43m(\u001B[49m\n\u001B[0;32m    431\u001B[0m \u001B[43m    \u001B[49m\u001B[43mcallbacks\u001B[49m\u001B[43m,\u001B[49m\n\u001B[0;32m    432\u001B[0m \u001B[43m    \u001B[49m\u001B[43menable_checkpointing\u001B[49m\u001B[43m,\u001B[49m\n\u001B[0;32m    433\u001B[0m \u001B[43m    \u001B[49m\u001B[43menable_progress_bar\u001B[49m\u001B[43m,\u001B[49m\n\u001B[0;32m    434\u001B[0m \u001B[43m    \u001B[49m\u001B[43mdefault_root_dir\u001B[49m\u001B[43m,\u001B[49m\n\u001B[0;32m    435\u001B[0m \u001B[43m    \u001B[49m\u001B[43menable_model_summary\u001B[49m\u001B[43m,\u001B[49m\n\u001B[0;32m    436\u001B[0m \u001B[43m    \u001B[49m\u001B[43mmax_time\u001B[49m\u001B[43m,\u001B[49m\n\u001B[0;32m    437\u001B[0m \u001B[43m\u001B[49m\u001B[43m)\u001B[49m\n\u001B[0;32m    439\u001B[0m \u001B[38;5;66;03m# init data flags\u001B[39;00m\n\u001B[0;32m    440\u001B[0m \u001B[38;5;28mself\u001B[39m\u001B[38;5;241m.\u001B[39mcheck_val_every_n_epoch: Optional[\u001B[38;5;28mint\u001B[39m]\n",
      "File \u001B[1;32mD:\\Documents\\GitHub\\Audio-ex3\\.venv\\lib\\site-packages\\lightning\\pytorch\\trainer\\connectors\\callback_connector.py:78\u001B[0m, in \u001B[0;36m_CallbackConnector.on_trainer_init\u001B[1;34m(self, callbacks, enable_checkpointing, enable_progress_bar, default_root_dir, enable_model_summary, max_time)\u001B[0m\n\u001B[0;32m     75\u001B[0m \u001B[38;5;66;03m# configure the ModelSummary callback\u001B[39;00m\n\u001B[0;32m     76\u001B[0m \u001B[38;5;28mself\u001B[39m\u001B[38;5;241m.\u001B[39m_configure_model_summary_callback(enable_model_summary)\n\u001B[1;32m---> 78\u001B[0m \u001B[38;5;28mself\u001B[39m\u001B[38;5;241m.\u001B[39mtrainer\u001B[38;5;241m.\u001B[39mcallbacks\u001B[38;5;241m.\u001B[39mextend(\u001B[43m_load_external_callbacks\u001B[49m\u001B[43m(\u001B[49m\u001B[38;5;124;43m\"\u001B[39;49m\u001B[38;5;124;43mlightning.pytorch.callbacks_factory\u001B[39;49m\u001B[38;5;124;43m\"\u001B[39;49m\u001B[43m)\u001B[49m)\n\u001B[0;32m     79\u001B[0m _validate_callbacks_list(\u001B[38;5;28mself\u001B[39m\u001B[38;5;241m.\u001B[39mtrainer\u001B[38;5;241m.\u001B[39mcallbacks)\n\u001B[0;32m     81\u001B[0m \u001B[38;5;66;03m# push all model checkpoint callbacks to the end\u001B[39;00m\n\u001B[0;32m     82\u001B[0m \u001B[38;5;66;03m# it is important that these are the last callbacks to run\u001B[39;00m\n",
      "File \u001B[1;32mD:\\Documents\\GitHub\\Audio-ex3\\.venv\\lib\\site-packages\\lightning\\fabric\\utilities\\registry.py:42\u001B[0m, in \u001B[0;36m_load_external_callbacks\u001B[1;34m(group)\u001B[0m\n\u001B[0;32m     38\u001B[0m \u001B[38;5;28;01mif\u001B[39;00m _PYTHON_GREATER_EQUAL_3_8_0:\n\u001B[0;32m     39\u001B[0m     \u001B[38;5;28;01mfrom\u001B[39;00m \u001B[38;5;21;01mimportlib\u001B[39;00m\u001B[38;5;21;01m.\u001B[39;00m\u001B[38;5;21;01mmetadata\u001B[39;00m \u001B[38;5;28;01mimport\u001B[39;00m entry_points\n\u001B[0;32m     41\u001B[0m     factories \u001B[38;5;241m=\u001B[39m (\n\u001B[1;32m---> 42\u001B[0m         \u001B[43mentry_points\u001B[49m\u001B[43m(\u001B[49m\u001B[43mgroup\u001B[49m\u001B[38;5;241;43m=\u001B[39;49m\u001B[43mgroup\u001B[49m\u001B[43m)\u001B[49m \u001B[38;5;28;01mif\u001B[39;00m _PYTHON_GREATER_EQUAL_3_10_0 \u001B[38;5;28;01melse\u001B[39;00m entry_points()\u001B[38;5;241m.\u001B[39mget(group, {})  \u001B[38;5;66;03m# type: ignore[arg-type]\u001B[39;00m\n\u001B[0;32m     43\u001B[0m     )\n\u001B[0;32m     44\u001B[0m \u001B[38;5;28;01melse\u001B[39;00m:\n\u001B[0;32m     45\u001B[0m     \u001B[38;5;28;01mfrom\u001B[39;00m \u001B[38;5;21;01mpkg_resources\u001B[39;00m \u001B[38;5;28;01mimport\u001B[39;00m iter_entry_points\n",
      "File \u001B[1;32mC:\\Program Files\\WindowsApps\\PythonSoftwareFoundation.Python.3.10_3.10.3056.0_x64__qbz5n2kfra8p0\\lib\\importlib\\metadata\\__init__.py:1021\u001B[0m, in \u001B[0;36mentry_points\u001B[1;34m(**params)\u001B[0m\n\u001B[0;32m   1017\u001B[0m unique \u001B[38;5;241m=\u001B[39m functools\u001B[38;5;241m.\u001B[39mpartial(unique_everseen, key\u001B[38;5;241m=\u001B[39mnorm_name)\n\u001B[0;32m   1018\u001B[0m eps \u001B[38;5;241m=\u001B[39m itertools\u001B[38;5;241m.\u001B[39mchain\u001B[38;5;241m.\u001B[39mfrom_iterable(\n\u001B[0;32m   1019\u001B[0m     dist\u001B[38;5;241m.\u001B[39mentry_points \u001B[38;5;28;01mfor\u001B[39;00m dist \u001B[38;5;129;01min\u001B[39;00m unique(distributions())\n\u001B[0;32m   1020\u001B[0m )\n\u001B[1;32m-> 1021\u001B[0m \u001B[38;5;28;01mreturn\u001B[39;00m \u001B[43mSelectableGroups\u001B[49m\u001B[38;5;241;43m.\u001B[39;49m\u001B[43mload\u001B[49m\u001B[43m(\u001B[49m\u001B[43meps\u001B[49m\u001B[43m)\u001B[49m\u001B[38;5;241m.\u001B[39mselect(\u001B[38;5;241m*\u001B[39m\u001B[38;5;241m*\u001B[39mparams)\n",
      "File \u001B[1;32mC:\\Program Files\\WindowsApps\\PythonSoftwareFoundation.Python.3.10_3.10.3056.0_x64__qbz5n2kfra8p0\\lib\\importlib\\metadata\\__init__.py:459\u001B[0m, in \u001B[0;36mSelectableGroups.load\u001B[1;34m(cls, eps)\u001B[0m\n\u001B[0;32m    456\u001B[0m \u001B[38;5;129m@classmethod\u001B[39m\n\u001B[0;32m    457\u001B[0m \u001B[38;5;28;01mdef\u001B[39;00m \u001B[38;5;21mload\u001B[39m(\u001B[38;5;28mcls\u001B[39m, eps):\n\u001B[0;32m    458\u001B[0m     by_group \u001B[38;5;241m=\u001B[39m operator\u001B[38;5;241m.\u001B[39mattrgetter(\u001B[38;5;124m'\u001B[39m\u001B[38;5;124mgroup\u001B[39m\u001B[38;5;124m'\u001B[39m)\n\u001B[1;32m--> 459\u001B[0m     ordered \u001B[38;5;241m=\u001B[39m \u001B[38;5;28;43msorted\u001B[39;49m\u001B[43m(\u001B[49m\u001B[43meps\u001B[49m\u001B[43m,\u001B[49m\u001B[43m \u001B[49m\u001B[43mkey\u001B[49m\u001B[38;5;241;43m=\u001B[39;49m\u001B[43mby_group\u001B[49m\u001B[43m)\u001B[49m\n\u001B[0;32m    460\u001B[0m     grouped \u001B[38;5;241m=\u001B[39m itertools\u001B[38;5;241m.\u001B[39mgroupby(ordered, by_group)\n\u001B[0;32m    461\u001B[0m     \u001B[38;5;28;01mreturn\u001B[39;00m \u001B[38;5;28mcls\u001B[39m((group, EntryPoints(eps)) \u001B[38;5;28;01mfor\u001B[39;00m group, eps \u001B[38;5;129;01min\u001B[39;00m grouped)\n",
      "File \u001B[1;32mC:\\Program Files\\WindowsApps\\PythonSoftwareFoundation.Python.3.10_3.10.3056.0_x64__qbz5n2kfra8p0\\lib\\importlib\\metadata\\__init__.py:1019\u001B[0m, in \u001B[0;36m<genexpr>\u001B[1;34m(.0)\u001B[0m\n\u001B[0;32m   1016\u001B[0m norm_name \u001B[38;5;241m=\u001B[39m operator\u001B[38;5;241m.\u001B[39mattrgetter(\u001B[38;5;124m'\u001B[39m\u001B[38;5;124m_normalized_name\u001B[39m\u001B[38;5;124m'\u001B[39m)\n\u001B[0;32m   1017\u001B[0m unique \u001B[38;5;241m=\u001B[39m functools\u001B[38;5;241m.\u001B[39mpartial(unique_everseen, key\u001B[38;5;241m=\u001B[39mnorm_name)\n\u001B[0;32m   1018\u001B[0m eps \u001B[38;5;241m=\u001B[39m itertools\u001B[38;5;241m.\u001B[39mchain\u001B[38;5;241m.\u001B[39mfrom_iterable(\n\u001B[1;32m-> 1019\u001B[0m     \u001B[43mdist\u001B[49m\u001B[38;5;241;43m.\u001B[39;49m\u001B[43mentry_points\u001B[49m \u001B[38;5;28;01mfor\u001B[39;00m dist \u001B[38;5;129;01min\u001B[39;00m unique(distributions())\n\u001B[0;32m   1020\u001B[0m )\n\u001B[0;32m   1021\u001B[0m \u001B[38;5;28;01mreturn\u001B[39;00m SelectableGroups\u001B[38;5;241m.\u001B[39mload(eps)\u001B[38;5;241m.\u001B[39mselect(\u001B[38;5;241m*\u001B[39m\u001B[38;5;241m*\u001B[39mparams)\n",
      "File \u001B[1;32mC:\\Program Files\\WindowsApps\\PythonSoftwareFoundation.Python.3.10_3.10.3056.0_x64__qbz5n2kfra8p0\\lib\\importlib\\metadata\\__init__.py:631\u001B[0m, in \u001B[0;36mDistribution.entry_points\u001B[1;34m(self)\u001B[0m\n\u001B[0;32m    629\u001B[0m \u001B[38;5;129m@property\u001B[39m\n\u001B[0;32m    630\u001B[0m \u001B[38;5;28;01mdef\u001B[39;00m \u001B[38;5;21mentry_points\u001B[39m(\u001B[38;5;28mself\u001B[39m):\n\u001B[1;32m--> 631\u001B[0m     \u001B[38;5;28;01mreturn\u001B[39;00m EntryPoints\u001B[38;5;241m.\u001B[39m_from_text_for(\u001B[38;5;28;43mself\u001B[39;49m\u001B[38;5;241;43m.\u001B[39;49m\u001B[43mread_text\u001B[49m\u001B[43m(\u001B[49m\u001B[38;5;124;43m'\u001B[39;49m\u001B[38;5;124;43mentry_points.txt\u001B[39;49m\u001B[38;5;124;43m'\u001B[39;49m\u001B[43m)\u001B[49m, \u001B[38;5;28mself\u001B[39m)\n",
      "File \u001B[1;32mC:\\Program Files\\WindowsApps\\PythonSoftwareFoundation.Python.3.10_3.10.3056.0_x64__qbz5n2kfra8p0\\lib\\importlib\\metadata\\__init__.py:927\u001B[0m, in \u001B[0;36mPathDistribution.read_text\u001B[1;34m(self, filename)\u001B[0m\n\u001B[0;32m    919\u001B[0m \u001B[38;5;28;01mdef\u001B[39;00m \u001B[38;5;21mread_text\u001B[39m(\u001B[38;5;28mself\u001B[39m, filename):\n\u001B[0;32m    920\u001B[0m     \u001B[38;5;28;01mwith\u001B[39;00m suppress(\n\u001B[0;32m    921\u001B[0m         \u001B[38;5;167;01mFileNotFoundError\u001B[39;00m,\n\u001B[0;32m    922\u001B[0m         \u001B[38;5;167;01mIsADirectoryError\u001B[39;00m,\n\u001B[1;32m   (...)\u001B[0m\n\u001B[0;32m    925\u001B[0m         \u001B[38;5;167;01mPermissionError\u001B[39;00m,\n\u001B[0;32m    926\u001B[0m     ):\n\u001B[1;32m--> 927\u001B[0m         \u001B[38;5;28;01mreturn\u001B[39;00m \u001B[38;5;28;43mself\u001B[39;49m\u001B[38;5;241;43m.\u001B[39;49m\u001B[43m_path\u001B[49m\u001B[38;5;241;43m.\u001B[39;49m\u001B[43mjoinpath\u001B[49m\u001B[43m(\u001B[49m\u001B[43mfilename\u001B[49m\u001B[43m)\u001B[49m\u001B[38;5;241;43m.\u001B[39;49m\u001B[43mread_text\u001B[49m\u001B[43m(\u001B[49m\u001B[43mencoding\u001B[49m\u001B[38;5;241;43m=\u001B[39;49m\u001B[38;5;124;43m'\u001B[39;49m\u001B[38;5;124;43mutf-8\u001B[39;49m\u001B[38;5;124;43m'\u001B[39;49m\u001B[43m)\u001B[49m\n",
      "File \u001B[1;32mC:\\Program Files\\WindowsApps\\PythonSoftwareFoundation.Python.3.10_3.10.3056.0_x64__qbz5n2kfra8p0\\lib\\pathlib.py:1134\u001B[0m, in \u001B[0;36mPath.read_text\u001B[1;34m(self, encoding, errors)\u001B[0m\n\u001B[0;32m   1130\u001B[0m \u001B[38;5;250m\u001B[39m\u001B[38;5;124;03m\"\"\"\u001B[39;00m\n\u001B[0;32m   1131\u001B[0m \u001B[38;5;124;03mOpen the file in text mode, read it, and close the file.\u001B[39;00m\n\u001B[0;32m   1132\u001B[0m \u001B[38;5;124;03m\"\"\"\u001B[39;00m\n\u001B[0;32m   1133\u001B[0m encoding \u001B[38;5;241m=\u001B[39m io\u001B[38;5;241m.\u001B[39mtext_encoding(encoding)\n\u001B[1;32m-> 1134\u001B[0m \u001B[38;5;28;01mwith\u001B[39;00m \u001B[38;5;28;43mself\u001B[39;49m\u001B[38;5;241;43m.\u001B[39;49m\u001B[43mopen\u001B[49m\u001B[43m(\u001B[49m\u001B[43mmode\u001B[49m\u001B[38;5;241;43m=\u001B[39;49m\u001B[38;5;124;43m'\u001B[39;49m\u001B[38;5;124;43mr\u001B[39;49m\u001B[38;5;124;43m'\u001B[39;49m\u001B[43m,\u001B[49m\u001B[43m \u001B[49m\u001B[43mencoding\u001B[49m\u001B[38;5;241;43m=\u001B[39;49m\u001B[43mencoding\u001B[49m\u001B[43m,\u001B[49m\u001B[43m \u001B[49m\u001B[43merrors\u001B[49m\u001B[38;5;241;43m=\u001B[39;49m\u001B[43merrors\u001B[49m\u001B[43m)\u001B[49m \u001B[38;5;28;01mas\u001B[39;00m f:\n\u001B[0;32m   1135\u001B[0m     \u001B[38;5;28;01mreturn\u001B[39;00m f\u001B[38;5;241m.\u001B[39mread()\n",
      "File \u001B[1;32mC:\\Program Files\\WindowsApps\\PythonSoftwareFoundation.Python.3.10_3.10.3056.0_x64__qbz5n2kfra8p0\\lib\\pathlib.py:1119\u001B[0m, in \u001B[0;36mPath.open\u001B[1;34m(self, mode, buffering, encoding, errors, newline)\u001B[0m\n\u001B[0;32m   1117\u001B[0m \u001B[38;5;28;01mif\u001B[39;00m \u001B[38;5;124m\"\u001B[39m\u001B[38;5;124mb\u001B[39m\u001B[38;5;124m\"\u001B[39m \u001B[38;5;129;01mnot\u001B[39;00m \u001B[38;5;129;01min\u001B[39;00m mode:\n\u001B[0;32m   1118\u001B[0m     encoding \u001B[38;5;241m=\u001B[39m io\u001B[38;5;241m.\u001B[39mtext_encoding(encoding)\n\u001B[1;32m-> 1119\u001B[0m \u001B[38;5;28;01mreturn\u001B[39;00m \u001B[38;5;28;43mself\u001B[39;49m\u001B[38;5;241;43m.\u001B[39;49m\u001B[43m_accessor\u001B[49m\u001B[38;5;241;43m.\u001B[39;49m\u001B[43mopen\u001B[49m\u001B[43m(\u001B[49m\u001B[38;5;28;43mself\u001B[39;49m\u001B[43m,\u001B[49m\u001B[43m \u001B[49m\u001B[43mmode\u001B[49m\u001B[43m,\u001B[49m\u001B[43m \u001B[49m\u001B[43mbuffering\u001B[49m\u001B[43m,\u001B[49m\u001B[43m \u001B[49m\u001B[43mencoding\u001B[49m\u001B[43m,\u001B[49m\u001B[43m \u001B[49m\u001B[43merrors\u001B[49m\u001B[43m,\u001B[49m\n\u001B[0;32m   1120\u001B[0m \u001B[43m                           \u001B[49m\u001B[43mnewline\u001B[49m\u001B[43m)\u001B[49m\n",
      "File \u001B[1;32mC:\\Program Files\\WindowsApps\\PythonSoftwareFoundation.Python.3.10_3.10.3056.0_x64__qbz5n2kfra8p0\\lib\\codecs.py:309\u001B[0m, in \u001B[0;36mBufferedIncrementalDecoder.__init__\u001B[1;34m(self, errors)\u001B[0m\n\u001B[0;32m    303\u001B[0m \u001B[38;5;28;01mclass\u001B[39;00m \u001B[38;5;21;01mBufferedIncrementalDecoder\u001B[39;00m(IncrementalDecoder):\n\u001B[0;32m    304\u001B[0m \u001B[38;5;250m    \u001B[39m\u001B[38;5;124;03m\"\"\"\u001B[39;00m\n\u001B[0;32m    305\u001B[0m \u001B[38;5;124;03m    This subclass of IncrementalDecoder can be used as the baseclass for an\u001B[39;00m\n\u001B[0;32m    306\u001B[0m \u001B[38;5;124;03m    incremental decoder if the decoder must be able to handle incomplete\u001B[39;00m\n\u001B[0;32m    307\u001B[0m \u001B[38;5;124;03m    byte sequences.\u001B[39;00m\n\u001B[0;32m    308\u001B[0m \u001B[38;5;124;03m    \"\"\"\u001B[39;00m\n\u001B[1;32m--> 309\u001B[0m     \u001B[38;5;28;01mdef\u001B[39;00m \u001B[38;5;21m__init__\u001B[39m(\u001B[38;5;28mself\u001B[39m, errors\u001B[38;5;241m=\u001B[39m\u001B[38;5;124m'\u001B[39m\u001B[38;5;124mstrict\u001B[39m\u001B[38;5;124m'\u001B[39m):\n\u001B[0;32m    310\u001B[0m         IncrementalDecoder\u001B[38;5;241m.\u001B[39m\u001B[38;5;21m__init__\u001B[39m(\u001B[38;5;28mself\u001B[39m, errors)\n\u001B[0;32m    311\u001B[0m         \u001B[38;5;66;03m# undecoded input that is kept between calls to decode()\u001B[39;00m\n",
      "\u001B[1;31mKeyboardInterrupt\u001B[0m: "
     ]
    }
   ],
   "execution_count": 12
  },
  {
   "metadata": {},
   "cell_type": "markdown",
   "source": "# Test the classifier",
   "id": "cfd1b6a0057877dd"
  },
  {
   "metadata": {},
   "cell_type": "code",
   "outputs": [],
   "execution_count": null,
   "source": "trainer.test(model, data_loader['test'])",
   "id": "70e9362c833804bc"
  }
 ],
 "metadata": {
  "kernelspec": {
   "display_name": "Python 3",
   "language": "python",
   "name": "python3"
  },
  "language_info": {
   "codemirror_mode": {
    "name": "ipython",
    "version": 2
   },
   "file_extension": ".py",
   "mimetype": "text/x-python",
   "name": "python",
   "nbconvert_exporter": "python",
   "pygments_lexer": "ipython2",
   "version": "2.7.6"
  }
 },
 "nbformat": 4,
 "nbformat_minor": 5
}
