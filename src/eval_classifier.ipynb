{
 "cells": [
  {
   "metadata": {},
   "cell_type": "markdown",
   "source": "# Setup for google colab",
   "id": "a7487ceae46bbb2"
  },
  {
   "metadata": {},
   "cell_type": "code",
   "outputs": [],
   "execution_count": null,
   "source": [
    "from google.colab import drive\n",
    "drive.mount(\"/content/drive\")\n",
    "%cd \"/content/drive/MyDrive/ColabNotebooks/Audio-ex3\""
   ],
   "id": "5f230ab63efbb0c2"
  },
  {
   "metadata": {},
   "cell_type": "code",
   "outputs": [],
   "execution_count": null,
   "source": "!git pull",
   "id": "603fa352768d894"
  },
  {
   "metadata": {},
   "cell_type": "code",
   "outputs": [],
   "execution_count": null,
   "source": [
    "!pip install -r requirements.txt\n",
    "%cd src"
   ],
   "id": "73a773bf3d353f84"
  },
  {
   "metadata": {},
   "cell_type": "markdown",
   "source": [
    "---\n",
    "# Check if GPU is available"
   ],
   "id": "4e776d8ec69d7594"
  },
  {
   "metadata": {
    "ExecuteTime": {
     "end_time": "2024-07-18T16:36:57.633572Z",
     "start_time": "2024-07-18T16:36:54.690567Z"
    }
   },
   "cell_type": "code",
   "source": [
    "import torch\n",
    "torch.cuda.is_available()"
   ],
   "id": "421996f289019e1f",
   "outputs": [
    {
     "data": {
      "text/plain": [
       "True"
      ]
     },
     "execution_count": 1,
     "metadata": {},
     "output_type": "execute_result"
    }
   ],
   "execution_count": 1
  },
  {
   "metadata": {},
   "cell_type": "markdown",
   "source": [
    "---\n",
    "# Logger"
   ],
   "id": "82102a9e111e0be7"
  },
  {
   "metadata": {
    "ExecuteTime": {
     "end_time": "2024-07-19T15:37:43.489045Z",
     "start_time": "2024-07-19T15:37:43.469045Z"
    }
   },
   "cell_type": "code",
   "source": [
    "from lightning.pytorch.loggers import NeptuneLogger\n",
    "import neptune\n",
    "API_TOKEN = \"eyJhcGlfYWRkcmVzcyI6Imh0dHBzOi8vYXBwLm5lcHR1bmUuYWkiLCJhcGlfdXJsIjoiaHR0cHM6Ly9hcHAubmVwdHVuZS5haSIsImFwaV9rZXkiOiIxYTZkNmEyYy0yYjRmLTRhNTYtOWZhNC1mMjg1YzVkODRhMjEifQ==\"\n",
    "PROJECT_NAME=\"mrobay/Audio-ex3\""
   ],
   "id": "68358c3880e9d187",
   "outputs": [],
   "execution_count": 16
  },
  {
   "metadata": {},
   "cell_type": "markdown",
   "source": [
    "---\n",
    "# Loading Data"
   ],
   "id": "9b217db19cf754ee"
  },
  {
   "metadata": {
    "ExecuteTime": {
     "end_time": "2024-07-19T15:26:47.438525Z",
     "start_time": "2024-07-19T15:23:24.864390Z"
    }
   },
   "cell_type": "code",
   "source": [
    "import importlib\n",
    "imported_module = importlib.import_module(\"loader\")\n",
    "importlib.reload(imported_module)\n",
    "import loader\n",
    "data_loader = loader.load_data()"
   ],
   "id": "34c86825a676dbdd",
   "outputs": [],
   "execution_count": 8
  },
  {
   "metadata": {},
   "cell_type": "markdown",
   "source": [
    "# Create the classifier and train it"
   ],
   "id": "43de8bcb4c1b3f50"
  },
  {
   "metadata": {
    "pycharm": {
     "is_executing": true
    },
    "ExecuteTime": {
     "end_time": "2024-07-19T16:54:54.920704Z",
     "start_time": "2024-07-19T16:50:26.835632Z"
    }
   },
   "cell_type": "code",
   "source": [
    "import importlib\n",
    "importlib.reload(importlib.import_module(\"classifier\"))\n",
    "importlib.reload(importlib.import_module(\"loader\"))\n",
    "import classifier\n",
    "import lightning as L\n",
    "import loader\n",
    "\n",
    "\n",
    "neptune_logger = NeptuneLogger(project=PROJECT_NAME, api_key=API_TOKEN, log_model_checkpoints=False)\n",
    "model = classifier.NeuralNetwork()\n",
    "trainer = L.Trainer(max_epochs=3, logger=neptune_logger, accelerator=\"auto\", devices=\"auto\", strategy=\"auto\")\n",
    "trainer.fit(model, data_loader['train'], data_loader['val'])\n",
    "#after training, save the model\n",
    "trainer.save_checkpoint(\"model.pth\")"
   ],
   "id": "37ecf2e24e9612de",
   "outputs": [
    {
     "name": "stderr",
     "output_type": "stream",
     "text": [
      "GPU available: True (cuda), used: True\n",
      "TPU available: False, using: 0 TPU cores\n",
      "HPU available: False, using: 0 HPUs\n"
     ]
    },
    {
     "name": "stdout",
     "output_type": "stream",
     "text": [
      "[neptune] [info   ] Neptune initialized. Open in the app: https://app.neptune.ai/mrobay/Audio-ex3/e/AUD-21\n"
     ]
    },
    {
     "name": "stderr",
     "output_type": "stream",
     "text": [
      "LOCAL_RANK: 0 - CUDA_VISIBLE_DEVICES: [0]\n",
      "\n",
      "  | Name  | Type    | Params | Mode \n",
      "------------------------------------------\n",
      "0 | lstm  | LSTM    | 604 K  | train\n",
      "1 | cnv   | Conv2d  | 10.0 K | train\n",
      "2 | conv1 | Conv2d  | 1.0 K  | train\n",
      "3 | relu  | ReLU    | 0      | train\n",
      "4 | loss  | CTCLoss | 0      | train\n",
      "------------------------------------------\n",
      "615 K     Trainable params\n",
      "0         Non-trainable params\n",
      "615 K     Total params\n",
      "2.460     Total estimated model params size (MB)\n"
     ]
    },
    {
     "data": {
      "text/plain": [
       "Sanity Checking: |          | 0/? [00:00<?, ?it/s]"
      ],
      "application/vnd.jupyter.widget-view+json": {
       "version_major": 2,
       "version_minor": 0,
       "model_id": "0c2cfa90497d418a8d8e3e5abd058c30"
      },
      "application/json": {
       "n": 0,
       "total": null,
       "elapsed": 0.0220034122467041,
       "ncols": null,
       "nrows": null,
       "prefix": "Sanity Checking",
       "ascii": false,
       "unit": "it",
       "unit_scale": false,
       "rate": null,
       "bar_format": "{l_bar}{bar}| {n_fmt}/{total_fmt} [{elapsed}<{remaining}, {rate_noinv_fmt}{postfix}]",
       "postfix": null,
       "unit_divisor": 1000,
       "initial": 0,
       "colour": null
      }
     },
     "metadata": {},
     "output_type": "display_data"
    },
    {
     "data": {
      "text/plain": [
       "Training: |          | 0/? [00:00<?, ?it/s]"
      ],
      "application/vnd.jupyter.widget-view+json": {
       "version_major": 2,
       "version_minor": 0,
       "model_id": "36f9ef1d5c154e91a3f37fe893ea6249"
      },
      "application/json": {
       "n": 0,
       "total": null,
       "elapsed": 0.05404305458068848,
       "ncols": null,
       "nrows": null,
       "prefix": "Training",
       "ascii": false,
       "unit": "it",
       "unit_scale": false,
       "rate": null,
       "bar_format": "{l_bar}{bar}| {n_fmt}/{total_fmt} [{elapsed}<{remaining}, {rate_noinv_fmt}{postfix}]",
       "postfix": null,
       "unit_divisor": 1000,
       "initial": 0,
       "colour": null
      }
     },
     "metadata": {},
     "output_type": "display_data"
    },
    {
     "data": {
      "text/plain": [
       "Validation: |          | 0/? [00:00<?, ?it/s]"
      ],
      "application/vnd.jupyter.widget-view+json": {
       "version_major": 2,
       "version_minor": 0,
       "model_id": "09f79d01d1f94c60b84db494df03d0f7"
      },
      "application/json": {
       "n": 0,
       "total": null,
       "elapsed": 0.027999162673950195,
       "ncols": null,
       "nrows": null,
       "prefix": "Validation",
       "ascii": false,
       "unit": "it",
       "unit_scale": false,
       "rate": null,
       "bar_format": "{l_bar}{bar}| {n_fmt}/{total_fmt} [{elapsed}<{remaining}, {rate_noinv_fmt}{postfix}]",
       "postfix": null,
       "unit_divisor": 1000,
       "initial": 0,
       "colour": null
      }
     },
     "metadata": {},
     "output_type": "display_data"
    },
    {
     "data": {
      "text/plain": [
       "Validation: |          | 0/? [00:00<?, ?it/s]"
      ],
      "application/vnd.jupyter.widget-view+json": {
       "version_major": 2,
       "version_minor": 0,
       "model_id": "aa8b7233dc39455f88cc39dd7ff63442"
      },
      "application/json": {
       "n": 0,
       "total": null,
       "elapsed": 0.020998716354370117,
       "ncols": null,
       "nrows": null,
       "prefix": "Validation",
       "ascii": false,
       "unit": "it",
       "unit_scale": false,
       "rate": null,
       "bar_format": "{l_bar}{bar}| {n_fmt}/{total_fmt} [{elapsed}<{remaining}, {rate_noinv_fmt}{postfix}]",
       "postfix": null,
       "unit_divisor": 1000,
       "initial": 0,
       "colour": null
      }
     },
     "metadata": {},
     "output_type": "display_data"
    },
    {
     "data": {
      "text/plain": [
       "Validation: |          | 0/? [00:00<?, ?it/s]"
      ],
      "application/vnd.jupyter.widget-view+json": {
       "version_major": 2,
       "version_minor": 0,
       "model_id": "41ba960c0ab442abad030a06c817454e"
      },
      "application/json": {
       "n": 0,
       "total": null,
       "elapsed": 0.019999265670776367,
       "ncols": null,
       "nrows": null,
       "prefix": "Validation",
       "ascii": false,
       "unit": "it",
       "unit_scale": false,
       "rate": null,
       "bar_format": "{l_bar}{bar}| {n_fmt}/{total_fmt} [{elapsed}<{remaining}, {rate_noinv_fmt}{postfix}]",
       "postfix": null,
       "unit_divisor": 1000,
       "initial": 0,
       "colour": null
      }
     },
     "metadata": {},
     "output_type": "display_data"
    },
    {
     "name": "stderr",
     "output_type": "stream",
     "text": [
      "`Trainer.fit` stopped: `max_epochs=3` reached.\n"
     ]
    }
   ],
   "execution_count": 35
  },
  {
   "metadata": {},
   "cell_type": "markdown",
   "source": [
    "# Test the classifier"
   ],
   "id": "cfd1b6a0057877dd"
  },
  {
   "metadata": {
    "ExecuteTime": {
     "end_time": "2024-07-17T20:53:17.291896Z",
     "start_time": "2024-07-17T20:53:08.085900Z"
    }
   },
   "cell_type": "code",
   "source": [
    "trainer.test(model, data_loader['test'])"
   ],
   "id": "70e9362c833804bc",
   "outputs": [
    {
     "name": "stderr",
     "output_type": "stream",
     "text": [
      "Exception ignored in: <function _MultiProcessingDataLoaderIter.__del__ at 0x0000029AE841FEC0>\n",
      "Traceback (most recent call last):\n",
      "  File \"C:\\Users\\merzi\\PycharmProjects\\pythonProject\\Audio-ex3\\venv\\Lib\\site-packages\\torch\\utils\\data\\dataloader.py\", line 1479, in __del__\n",
      "    self._shutdown_workers()\n",
      "  File \"C:\\Users\\merzi\\PycharmProjects\\pythonProject\\Audio-ex3\\venv\\Lib\\site-packages\\torch\\utils\\data\\dataloader.py\", line 1438, in _shutdown_workers\n",
      "    self._mark_worker_as_unavailable(worker_id, shutdown=True)\n",
      "  File \"C:\\Users\\merzi\\PycharmProjects\\pythonProject\\Audio-ex3\\venv\\Lib\\site-packages\\torch\\utils\\data\\dataloader.py\", line 1380, in _mark_worker_as_unavailable\n",
      "    assert self._workers_status[worker_id] or (self._persistent_workers and shutdown)\n",
      "           ^^^^^^^^^^^^^^^^^^^^\n",
      "AttributeError: '_MultiProcessingDataLoaderIter' object has no attribute '_workers_status'\n"
     ]
    }
   ],
   "execution_count": 3
  }
 ],
 "metadata": {
  "kernelspec": {
   "display_name": "Python 3",
   "language": "python",
   "name": "python3"
  },
  "language_info": {
   "codemirror_mode": {
    "name": "ipython",
    "version": 2
   },
   "file_extension": ".py",
   "mimetype": "text/x-python",
   "name": "python",
   "nbconvert_exporter": "python",
   "pygments_lexer": "ipython2",
   "version": "2.7.6"
  }
 },
 "nbformat": 4,
 "nbformat_minor": 5
}
