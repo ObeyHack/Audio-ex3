{
 "cells": [
  {
   "metadata": {},
   "cell_type": "markdown",
   "source": "# Setup for google colab",
   "id": "a7487ceae46bbb2"
  },
  {
   "metadata": {},
   "cell_type": "code",
   "outputs": [],
   "execution_count": null,
   "source": [
    "from google.colab import drive\n",
    "drive.mount(\"/content/drive\")\n",
    "%cd \"/content/drive/MyDrive/ColabNotebooks/Audio-ex3\""
   ],
   "id": "5f230ab63efbb0c2"
  },
  {
   "metadata": {},
   "cell_type": "code",
   "outputs": [],
   "execution_count": null,
   "source": "!git pull",
   "id": "603fa352768d894"
  },
  {
   "metadata": {},
   "cell_type": "code",
   "outputs": [],
   "execution_count": null,
   "source": [
    "!pip install -r requirements.txt\n",
    "%cd src"
   ],
   "id": "73a773bf3d353f84"
  },
  {
   "metadata": {},
   "cell_type": "markdown",
   "source": [
    "---\n",
    "# Check if GPU is available"
   ],
   "id": "4e776d8ec69d7594"
  },
  {
   "metadata": {
    "ExecuteTime": {
     "end_time": "2024-07-18T16:36:57.633572Z",
     "start_time": "2024-07-18T16:36:54.690567Z"
    }
   },
   "cell_type": "code",
   "source": [
    "import torch\n",
    "torch.cuda.is_available()"
   ],
   "id": "421996f289019e1f",
   "outputs": [
    {
     "data": {
      "text/plain": [
       "True"
      ]
     },
     "execution_count": 1,
     "metadata": {},
     "output_type": "execute_result"
    }
   ],
   "execution_count": 1
  },
  {
   "metadata": {},
   "cell_type": "markdown",
   "source": [
    "---\n",
    "# Loading Data"
   ],
   "id": "9b217db19cf754ee"
  },
  {
   "metadata": {
    "ExecuteTime": {
     "end_time": "2024-07-18T20:19:46.243845Z",
     "start_time": "2024-07-18T20:17:55.923327Z"
    }
   },
   "cell_type": "code",
   "source": [
    "import importlib\n",
    "imported_module = importlib.import_module(\"loader\")\n",
    "importlib.reload(imported_module)\n",
    "import loader\n",
    "data_loader = loader.load_data()"
   ],
   "id": "34c86825a676dbdd",
   "outputs": [
    {
     "ename": "KeyboardInterrupt",
     "evalue": "",
     "output_type": "error",
     "traceback": [
      "\u001B[1;31m---------------------------------------------------------------------------\u001B[0m",
      "\u001B[1;31mValueError\u001B[0m                                Traceback (most recent call last)",
      "    \u001B[1;31m[... skipping hidden 1 frame]\u001B[0m\n",
      "Cell \u001B[1;32mIn[18], line 7\u001B[0m\n\u001B[0;32m      6\u001B[0m data_loader\u001B[38;5;241m.\u001B[39mprepare_data()\n\u001B[1;32m----> 7\u001B[0m \u001B[43mdata_loader\u001B[49m\u001B[38;5;241;43m.\u001B[39;49m\u001B[43msetup\u001B[49m\u001B[43m(\u001B[49m\u001B[38;5;124;43m\"\u001B[39;49m\u001B[38;5;124;43mfit\u001B[39;49m\u001B[38;5;124;43m\"\u001B[39;49m\u001B[43m)\u001B[49m\n",
      "File \u001B[1;32mD:\\Documents\\GitHub\\Audio-ex3\\src\\loader.py:193\u001B[0m, in \u001B[0;36mAudioDataModule.setup\u001B[1;34m(self, stage)\u001B[0m\n\u001B[0;32m    192\u001B[0m \u001B[38;5;28;01mif\u001B[39;00m stage \u001B[38;5;241m==\u001B[39m \u001B[38;5;124m\"\u001B[39m\u001B[38;5;124mfit\u001B[39m\u001B[38;5;124m\"\u001B[39m:\n\u001B[1;32m--> 193\u001B[0m     train_X, train_Y \u001B[38;5;241m=\u001B[39m \u001B[43mget_set\u001B[49m\u001B[43m(\u001B[49m\u001B[38;5;124;43m'\u001B[39;49m\u001B[38;5;124;43mtrain\u001B[39;49m\u001B[38;5;124;43m'\u001B[39;49m\u001B[43m,\u001B[49m\u001B[43m \u001B[49m\u001B[38;5;28;43mself\u001B[39;49m\u001B[38;5;241;43m.\u001B[39;49m\u001B[43mdata_dir\u001B[49m\u001B[43m)\u001B[49m\n\u001B[0;32m    194\u001B[0m     train_dataset \u001B[38;5;241m=\u001B[39m torch\u001B[38;5;241m.\u001B[39mutils\u001B[38;5;241m.\u001B[39mdata\u001B[38;5;241m.\u001B[39mTensorDataset(train_X, train_Y)\n",
      "File \u001B[1;32mD:\\Documents\\GitHub\\Audio-ex3\\src\\loader.py:159\u001B[0m, in \u001B[0;36mget_set\u001B[1;34m(set, root_path)\u001B[0m\n\u001B[0;32m    158\u001B[0m         X\u001B[38;5;241m.\u001B[39mappend(extract_mfcc(file))\n\u001B[1;32m--> 159\u001B[0m X \u001B[38;5;241m=\u001B[39m \u001B[43mnp\u001B[49m\u001B[38;5;241;43m.\u001B[39;49m\u001B[43marray\u001B[49m\u001B[43m(\u001B[49m\u001B[43mX\u001B[49m\u001B[43m)\u001B[49m\n\u001B[0;32m    161\u001B[0m Y_pad \u001B[38;5;241m=\u001B[39m nn\u001B[38;5;241m.\u001B[39mutils\u001B[38;5;241m.\u001B[39mrnn\u001B[38;5;241m.\u001B[39mpad_sequence(Y, batch_first\u001B[38;5;241m=\u001B[39m\u001B[38;5;28;01mTrue\u001B[39;00m, padding_value\u001B[38;5;241m=\u001B[39mPADDING_VALUE)\n",
      "\u001B[1;31mValueError\u001B[0m: setting an array element with a sequence. The requested array has an inhomogeneous shape after 2 dimensions. The detected shape was (11798, 20) + inhomogeneous part.",
      "\nDuring handling of the above exception, another exception occurred:\n",
      "\u001B[1;31mKeyboardInterrupt\u001B[0m                         Traceback (most recent call last)",
      "    \u001B[1;31m[... skipping hidden 1 frame]\u001B[0m\n",
      "File \u001B[1;32m_pydevd_bundle\\pydevd_cython_win32_310_64.pyx:1187\u001B[0m, in \u001B[0;36m_pydevd_bundle.pydevd_cython_win32_310_64.SafeCallWrapper.__call__\u001B[1;34m()\u001B[0m\n",
      "File \u001B[1;32m_pydevd_bundle\\pydevd_cython_win32_310_64.pyx:627\u001B[0m, in \u001B[0;36m_pydevd_bundle.pydevd_cython_win32_310_64.PyDBFrame.trace_dispatch\u001B[1;34m()\u001B[0m\n",
      "File \u001B[1;32m_pydevd_bundle\\pydevd_cython_win32_310_64.pyx:1103\u001B[0m, in \u001B[0;36m_pydevd_bundle.pydevd_cython_win32_310_64.PyDBFrame.trace_dispatch\u001B[1;34m()\u001B[0m\n",
      "File \u001B[1;32m_pydevd_bundle\\pydevd_cython_win32_310_64.pyx:1065\u001B[0m, in \u001B[0;36m_pydevd_bundle.pydevd_cython_win32_310_64.PyDBFrame.trace_dispatch\u001B[1;34m()\u001B[0m\n",
      "File \u001B[1;32m_pydevd_bundle\\pydevd_cython_win32_310_64.pyx:585\u001B[0m, in \u001B[0;36m_pydevd_bundle.pydevd_cython_win32_310_64.PyDBFrame.do_wait_suspend\u001B[1;34m()\u001B[0m\n",
      "File \u001B[1;32m~\\AppData\\Local\\Programs\\PyCharm Professional\\plugins\\python\\helpers\\pydev\\pydevd.py:1201\u001B[0m, in \u001B[0;36mPyDB.do_wait_suspend\u001B[1;34m(self, thread, frame, event, arg, send_suspend_message, is_unhandled_exception)\u001B[0m\n\u001B[0;32m   1198\u001B[0m         from_this_thread\u001B[38;5;241m.\u001B[39mappend(frame_id)\n\u001B[0;32m   1200\u001B[0m \u001B[38;5;28;01mwith\u001B[39;00m \u001B[38;5;28mself\u001B[39m\u001B[38;5;241m.\u001B[39m_threads_suspended_single_notification\u001B[38;5;241m.\u001B[39mnotify_thread_suspended(thread_id, stop_reason):\n\u001B[1;32m-> 1201\u001B[0m     \u001B[38;5;28;43mself\u001B[39;49m\u001B[38;5;241;43m.\u001B[39;49m\u001B[43m_do_wait_suspend\u001B[49m\u001B[43m(\u001B[49m\u001B[43mthread\u001B[49m\u001B[43m,\u001B[49m\u001B[43m \u001B[49m\u001B[43mframe\u001B[49m\u001B[43m,\u001B[49m\u001B[43m \u001B[49m\u001B[43mevent\u001B[49m\u001B[43m,\u001B[49m\u001B[43m \u001B[49m\u001B[43marg\u001B[49m\u001B[43m,\u001B[49m\u001B[43m \u001B[49m\u001B[43msuspend_type\u001B[49m\u001B[43m,\u001B[49m\u001B[43m \u001B[49m\u001B[43mfrom_this_thread\u001B[49m\u001B[43m)\u001B[49m\n",
      "File \u001B[1;32m~\\AppData\\Local\\Programs\\PyCharm Professional\\plugins\\python\\helpers\\pydev\\pydevd.py:1216\u001B[0m, in \u001B[0;36mPyDB._do_wait_suspend\u001B[1;34m(self, thread, frame, event, arg, suspend_type, from_this_thread)\u001B[0m\n\u001B[0;32m   1213\u001B[0m             \u001B[38;5;28mself\u001B[39m\u001B[38;5;241m.\u001B[39m_call_mpl_hook()\n\u001B[0;32m   1215\u001B[0m         \u001B[38;5;28mself\u001B[39m\u001B[38;5;241m.\u001B[39mprocess_internal_commands()\n\u001B[1;32m-> 1216\u001B[0m         \u001B[43mtime\u001B[49m\u001B[38;5;241;43m.\u001B[39;49m\u001B[43msleep\u001B[49m\u001B[43m(\u001B[49m\u001B[38;5;241;43m0.01\u001B[39;49m\u001B[43m)\u001B[49m\n\u001B[0;32m   1218\u001B[0m \u001B[38;5;28mself\u001B[39m\u001B[38;5;241m.\u001B[39mcancel_async_evaluation(get_current_thread_id(thread), \u001B[38;5;28mstr\u001B[39m(\u001B[38;5;28mid\u001B[39m(frame)))\n\u001B[0;32m   1220\u001B[0m \u001B[38;5;66;03m# process any stepping instructions\u001B[39;00m\n",
      "\u001B[1;31mKeyboardInterrupt\u001B[0m: "
     ]
    }
   ],
   "execution_count": 18
  },
  {
   "metadata": {},
   "cell_type": "markdown",
   "source": [
    "# Create the classifier and train it"
   ],
   "id": "43de8bcb4c1b3f50"
  },
  {
   "metadata": {
    "pycharm": {
     "is_executing": true
    },
    "ExecuteTime": {
     "end_time": "2024-07-18T20:08:06.264006Z",
     "start_time": "2024-07-18T20:07:30.873818Z"
    }
   },
   "cell_type": "code",
   "source": [
    "import importlib\n",
    "importlib.reload(importlib.import_module(\"classifier\"))\n",
    "importlib.reload(importlib.import_module(\"loader\"))\n",
    "import classifier\n",
    "import lightning as L\n",
    "import loader\n",
    "\n",
    "model = classifier.NeuralNetwork()\n",
    "trainer = L.Trainer(max_epochs=50, accelerator=\"auto\", devices=\"auto\", strategy=\"auto\")\n",
    "trainer.fit(model, data_loader['train'], data_loader['val'])\n",
    "#after training, save the model\n",
    "trainer.save_checkpoint(\"model.pth\")"
   ],
   "id": "37ecf2e24e9612de",
   "outputs": [
    {
     "name": "stderr",
     "output_type": "stream",
     "text": [
      "GPU available: True (cuda), used: True\n",
      "TPU available: False, using: 0 TPU cores\n",
      "HPU available: False, using: 0 HPUs\n"
     ]
    }
   ],
   "execution_count": 12
  },
  {
   "metadata": {},
   "cell_type": "markdown",
   "source": [
    "# Test the classifier"
   ],
   "id": "cfd1b6a0057877dd"
  },
  {
   "metadata": {
    "ExecuteTime": {
     "end_time": "2024-07-17T20:53:17.291896Z",
     "start_time": "2024-07-17T20:53:08.085900Z"
    }
   },
   "cell_type": "code",
   "source": [
    "trainer.test(model, data_loader['test'])"
   ],
   "id": "70e9362c833804bc",
   "outputs": [
    {
     "name": "stderr",
     "output_type": "stream",
     "text": [
      "Exception ignored in: <function _MultiProcessingDataLoaderIter.__del__ at 0x0000029AE841FEC0>\n",
      "Traceback (most recent call last):\n",
      "  File \"C:\\Users\\merzi\\PycharmProjects\\pythonProject\\Audio-ex3\\venv\\Lib\\site-packages\\torch\\utils\\data\\dataloader.py\", line 1479, in __del__\n",
      "    self._shutdown_workers()\n",
      "  File \"C:\\Users\\merzi\\PycharmProjects\\pythonProject\\Audio-ex3\\venv\\Lib\\site-packages\\torch\\utils\\data\\dataloader.py\", line 1438, in _shutdown_workers\n",
      "    self._mark_worker_as_unavailable(worker_id, shutdown=True)\n",
      "  File \"C:\\Users\\merzi\\PycharmProjects\\pythonProject\\Audio-ex3\\venv\\Lib\\site-packages\\torch\\utils\\data\\dataloader.py\", line 1380, in _mark_worker_as_unavailable\n",
      "    assert self._workers_status[worker_id] or (self._persistent_workers and shutdown)\n",
      "           ^^^^^^^^^^^^^^^^^^^^\n",
      "AttributeError: '_MultiProcessingDataLoaderIter' object has no attribute '_workers_status'\n"
     ]
    }
   ],
   "execution_count": 3
  }
 ],
 "metadata": {
  "kernelspec": {
   "display_name": "Python 3",
   "language": "python",
   "name": "python3"
  },
  "language_info": {
   "codemirror_mode": {
    "name": "ipython",
    "version": 2
   },
   "file_extension": ".py",
   "mimetype": "text/x-python",
   "name": "python",
   "nbconvert_exporter": "python",
   "pygments_lexer": "ipython2",
   "version": "2.7.6"
  }
 },
 "nbformat": 4,
 "nbformat_minor": 5
}
