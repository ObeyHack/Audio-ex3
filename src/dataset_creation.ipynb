{
 "cells": [
  {
   "metadata": {},
   "cell_type": "markdown",
   "source": [
    "# Create dataset\n",
    "\n",
    "The **data** path is a unzipped folder from the exercise zip file"
   ],
   "id": "57a1e62517705651"
  },
  {
   "cell_type": "code",
   "id": "initial_id",
   "metadata": {
    "collapsed": true,
    "ExecuteTime": {
     "end_time": "2024-07-25T11:54:02.975490Z",
     "start_time": "2024-07-25T11:53:45.904523Z"
    }
   },
   "source": [
    "import torch\n",
    "from datasets import load_dataset\n",
    "import datasets\n",
    "from torch.utils.data import DataLoader\n",
    "\n",
    "dataset = load_dataset(\"audiofolder\", data_dir=\"data\")"
   ],
   "outputs": [
    {
     "data": {
      "text/plain": [
       "Resolving data files:   0%|          | 0/12798 [00:00<?, ?it/s]"
      ],
      "application/vnd.jupyter.widget-view+json": {
       "version_major": 2,
       "version_minor": 0,
       "model_id": "7c110187f5b041a484f9a4d6248bbd35"
      }
     },
     "metadata": {},
     "output_type": "display_data"
    },
    {
     "data": {
      "text/plain": [
       "Resolving data files:   0%|          | 0/1000 [00:00<?, ?it/s]"
      ],
      "application/vnd.jupyter.widget-view+json": {
       "version_major": 2,
       "version_minor": 0,
       "model_id": "0563e8f73bf14fabba4290204e97ef70"
      }
     },
     "metadata": {},
     "output_type": "display_data"
    },
    {
     "data": {
      "text/plain": [
       "Resolving data files:   0%|          | 0/1000 [00:00<?, ?it/s]"
      ],
      "application/vnd.jupyter.widget-view+json": {
       "version_major": 2,
       "version_minor": 0,
       "model_id": "4c9b4ef1698d4508ae092a062a2ad2e6"
      }
     },
     "metadata": {},
     "output_type": "display_data"
    }
   ],
   "execution_count": 10
  },
  {
   "metadata": {
    "ExecuteTime": {
     "end_time": "2024-07-25T13:30:34.227578Z",
     "start_time": "2024-07-25T13:30:34.205579Z"
    }
   },
   "cell_type": "code",
   "source": "len(dataset['train'][4]['audio'][\"array\"])",
   "id": "5ebd18c6b9c5637d",
   "outputs": [
    {
     "data": {
      "text/plain": [
       "15019"
      ]
     },
     "execution_count": 58,
     "metadata": {},
     "output_type": "execute_result"
    }
   ],
   "execution_count": 58
  },
  {
   "metadata": {},
   "cell_type": "markdown",
   "source": "## Upload it to the hub",
   "id": "c242bff1d63ff18e"
  },
  {
   "metadata": {
    "ExecuteTime": {
     "end_time": "2024-07-25T11:57:18.693296Z",
     "start_time": "2024-07-25T11:55:55.599696Z"
    }
   },
   "cell_type": "code",
   "source": "dataset.push_to_hub(\"MrObay/Audio-ex3\", data_dir=\"raw\")",
   "id": "da243cc362bfd798",
   "outputs": [
    {
     "data": {
      "text/plain": [
       "Uploading the dataset shards:   0%|          | 0/1 [00:00<?, ?it/s]"
      ],
      "application/vnd.jupyter.widget-view+json": {
       "version_major": 2,
       "version_minor": 0,
       "model_id": "2b679cdd0d384c878b81e09b7175666f"
      }
     },
     "metadata": {},
     "output_type": "display_data"
    },
    {
     "data": {
      "text/plain": [
       "Map:   0%|          | 0/12798 [00:00<?, ? examples/s]"
      ],
      "application/vnd.jupyter.widget-view+json": {
       "version_major": 2,
       "version_minor": 0,
       "model_id": "bf208f1e05c0405d8adf63b04e9f51a7"
      }
     },
     "metadata": {},
     "output_type": "display_data"
    },
    {
     "data": {
      "text/plain": [
       "Creating parquet from Arrow format:   0%|          | 0/128 [00:00<?, ?ba/s]"
      ],
      "application/vnd.jupyter.widget-view+json": {
       "version_major": 2,
       "version_minor": 0,
       "model_id": "a2cc21ea27e049a9af9175680dfabe38"
      }
     },
     "metadata": {},
     "output_type": "display_data"
    },
    {
     "data": {
      "text/plain": [
       "Uploading the dataset shards:   0%|          | 0/1 [00:00<?, ?it/s]"
      ],
      "application/vnd.jupyter.widget-view+json": {
       "version_major": 2,
       "version_minor": 0,
       "model_id": "cfd72c8906e74a19bd1132deec244dcb"
      }
     },
     "metadata": {},
     "output_type": "display_data"
    },
    {
     "data": {
      "text/plain": [
       "Map:   0%|          | 0/1000 [00:00<?, ? examples/s]"
      ],
      "application/vnd.jupyter.widget-view+json": {
       "version_major": 2,
       "version_minor": 0,
       "model_id": "c714c086269745af94ccda83e58698a8"
      }
     },
     "metadata": {},
     "output_type": "display_data"
    },
    {
     "data": {
      "text/plain": [
       "Creating parquet from Arrow format:   0%|          | 0/10 [00:00<?, ?ba/s]"
      ],
      "application/vnd.jupyter.widget-view+json": {
       "version_major": 2,
       "version_minor": 0,
       "model_id": "8a568757176843fd9bfdd4885239171f"
      }
     },
     "metadata": {},
     "output_type": "display_data"
    },
    {
     "data": {
      "text/plain": [
       "Uploading the dataset shards:   0%|          | 0/1 [00:00<?, ?it/s]"
      ],
      "application/vnd.jupyter.widget-view+json": {
       "version_major": 2,
       "version_minor": 0,
       "model_id": "11f56828ea73430abe29754fb349040e"
      }
     },
     "metadata": {},
     "output_type": "display_data"
    },
    {
     "data": {
      "text/plain": [
       "Map:   0%|          | 0/1000 [00:00<?, ? examples/s]"
      ],
      "application/vnd.jupyter.widget-view+json": {
       "version_major": 2,
       "version_minor": 0,
       "model_id": "ed761500d95946da873492f4205dd8a7"
      }
     },
     "metadata": {},
     "output_type": "display_data"
    },
    {
     "data": {
      "text/plain": [
       "Creating parquet from Arrow format:   0%|          | 0/10 [00:00<?, ?ba/s]"
      ],
      "application/vnd.jupyter.widget-view+json": {
       "version_major": 2,
       "version_minor": 0,
       "model_id": "72ae578298d5460f8fb178371f07adce"
      }
     },
     "metadata": {},
     "output_type": "display_data"
    },
    {
     "data": {
      "text/plain": [
       "README.md:   0%|          | 0.00/2.48k [00:00<?, ?B/s]"
      ],
      "application/vnd.jupyter.widget-view+json": {
       "version_major": 2,
       "version_minor": 0,
       "model_id": "7266703ca47e42e6a36e73dcd8f6ef21"
      }
     },
     "metadata": {},
     "output_type": "display_data"
    },
    {
     "name": "stderr",
     "output_type": "stream",
     "text": [
      "D:\\Documents\\GitHub\\Audio-ex3\\.venv\\lib\\site-packages\\huggingface_hub\\file_download.py:159: UserWarning: `huggingface_hub` cache-system uses symlinks by default to efficiently store duplicated files but your machine does not support them in C:\\Users\\sean\\.cache\\huggingface\\hub\\datasets--MrObay--Audio-ex3. Caching files will still work but in a degraded version that might require more space on your disk. This warning can be disabled by setting the `HF_HUB_DISABLE_SYMLINKS_WARNING` environment variable. For more details, see https://huggingface.co/docs/huggingface_hub/how-to-cache#limitations.\n",
      "To support symlinks on Windows, you either need to activate Developer Mode or to run Python as an administrator. In order to see activate developer mode, see this article: https://docs.microsoft.com/en-us/windows/apps/get-started/enable-your-device-for-development\n",
      "  warnings.warn(message)\n"
     ]
    },
    {
     "data": {
      "text/plain": [
       "CommitInfo(commit_url='https://huggingface.co/datasets/MrObay/Audio-ex3/commit/ac00ab05ebbcac43af5596bc3981ad4666c34057', commit_message='Upload dataset', commit_description='', oid='ac00ab05ebbcac43af5596bc3981ad4666c34057', pr_url=None, pr_revision=None, pr_num=None)"
      ]
     },
     "execution_count": 17,
     "metadata": {},
     "output_type": "execute_result"
    }
   ],
   "execution_count": 17
  },
  {
   "metadata": {},
   "cell_type": "markdown",
   "source": [
    "---\n",
    "# Create MFCC features"
   ],
   "id": "27be79964cf7a044"
  },
  {
   "metadata": {
    "ExecuteTime": {
     "end_time": "2024-07-25T19:42:07.158874Z",
     "start_time": "2024-07-25T19:41:59.620316Z"
    }
   },
   "cell_type": "code",
   "source": [
    "from datasets import load_dataset\n",
    "dataset = load_dataset(\"MrObay/Audio-ex3\", \"raw\")"
   ],
   "id": "95d08112acfae84b",
   "outputs": [],
   "execution_count": 1
  },
  {
   "metadata": {
    "ExecuteTime": {
     "end_time": "2024-07-25T19:48:57.038302Z",
     "start_time": "2024-07-25T19:48:20.704183Z"
    }
   },
   "cell_type": "code",
   "source": [
    "from loader import MFCC_FEATURES, zero_to_nine, AUDIO_LENGTH\n",
    "import librosa\n",
    "import numpy as np\n",
    "from transformers import BertTokenizer\n",
    "\n",
    "def preprocess_function(example):\n",
    "    # pad\n",
    "    audio = example[\"audio\"][\"array\"]\n",
    "    audio = np.pad(audio, (0, AUDIO_LENGTH - len(audio)), mode=\"constant\")\n",
    "    mfcc = librosa.feature.mfcc(audio, sr=22050, n_mfcc=MFCC_FEATURES)\n",
    "    example[\"mfcc\"] = mfcc\n",
    "    example[\"label_str\"] = zero_to_nine[example[\"label\"]]\n",
    "    return batch\n",
    "\n",
    "mf_dataset = dataset.map(preprocess_function, batched=False)"
   ],
   "id": "1c483fd50a4c492f",
   "outputs": [
    {
     "name": "stderr",
     "output_type": "stream",
     "text": [
      "D:\\Documents\\GitHub\\Audio-ex3\\.venv\\lib\\site-packages\\torchaudio\\functional\\functional.py:584: UserWarning: At least one mel filterbank has all zero values. The value for `n_mels` (128) may be set too high. Or, the value for `n_freqs` (201) may be set too low.\n",
      "  warnings.warn(\n"
     ]
    },
    {
     "data": {
      "text/plain": [
       "Map:   0%|          | 0/12798 [00:00<?, ? examples/s]"
      ],
      "application/vnd.jupyter.widget-view+json": {
       "version_major": 2,
       "version_minor": 0,
       "model_id": "679aba596fd74ceca25ee7b05f9b5870"
      }
     },
     "metadata": {},
     "output_type": "display_data"
    },
    {
     "name": "stderr",
     "output_type": "stream",
     "text": [
      "\n",
      "KeyboardInterrupt\n",
      "\n"
     ]
    }
   ],
   "execution_count": 13
  },
  {
   "metadata": {},
   "cell_type": "markdown",
   "source": "## Upload it to the hub",
   "id": "7ed6b70133911d6b"
  },
  {
   "metadata": {
    "ExecuteTime": {
     "end_time": "2024-07-25T14:09:51.520736Z",
     "start_time": "2024-07-25T14:09:51.064739Z"
    }
   },
   "cell_type": "code",
   "source": "mf_dataset.push_to_hub(\"MrObay/Audio-ex3\")",
   "id": "c2f8032ecbdb3ec3",
   "outputs": [
    {
     "ename": "NameError",
     "evalue": "name 'mf_dataset' is not defined",
     "output_type": "error",
     "traceback": [
      "\u001B[1;31m---------------------------------------------------------------------------\u001B[0m",
      "\u001B[1;31mNameError\u001B[0m                                 Traceback (most recent call last)",
      "Cell \u001B[1;32mIn[1], line 1\u001B[0m\n\u001B[1;32m----> 1\u001B[0m \u001B[43mmf_dataset\u001B[49m\u001B[38;5;241m.\u001B[39mpush_to_hub(\u001B[38;5;124m\"\u001B[39m\u001B[38;5;124mMrObay/Audio-ex3\u001B[39m\u001B[38;5;124m\"\u001B[39m)\n",
      "\u001B[1;31mNameError\u001B[0m: name 'mf_dataset' is not defined"
     ]
    }
   ],
   "execution_count": 1
  },
  {
   "metadata": {},
   "cell_type": "markdown",
   "source": "## Load the dataset",
   "id": "d6969ee4728bbd6a"
  },
  {
   "metadata": {
    "ExecuteTime": {
     "end_time": "2024-07-26T07:52:07.497815Z",
     "start_time": "2024-07-26T07:52:03.037624Z"
    }
   },
   "cell_type": "code",
   "source": [
    "from datasets import load_dataset\n",
    "mfcc_dataset = load_dataset(\"MrObay/Audio-ex3\")\n",
    "mfcc_dataset = mfcc_dataset.remove_columns([\"audio\", \"label\"])"
   ],
   "id": "48d42eba4e6b5de2",
   "outputs": [],
   "execution_count": 5
  },
  {
   "metadata": {},
   "cell_type": "markdown",
   "source": "## Data loader",
   "id": "e3e76ea6650278c6"
  },
  {
   "metadata": {
    "ExecuteTime": {
     "end_time": "2024-07-26T07:53:55.860085Z",
     "start_time": "2024-07-26T07:53:55.845083Z"
    }
   },
   "cell_type": "code",
   "source": [
    "from torch.utils.data import Dataset\n",
    "\n",
    "class MyDataset(Dataset):\n",
    "    def __init__(self, dataset):\n",
    "        self.dataset = dataset\n",
    "        \n",
    "    def __getitem__(self, index):\n",
    "        x = self.dataset[index]['mfcc']\n",
    "        y = self.dataset[index]['label']\n",
    "        return x, y\n",
    "    \n",
    "    def __len__(self):\n",
    "        return len(self.dataset)\n",
    "    \n",
    "    \n",
    "def collate_fn(batch):\n",
    "    return [torch.stack([x for x,_ in batch]), torch.stack([y for _,y in batch])]"
   ],
   "id": "7eb05f9bcae765d",
   "outputs": [],
   "execution_count": 9
  },
  {
   "metadata": {
    "ExecuteTime": {
     "end_time": "2024-07-26T07:56:14.038482Z",
     "start_time": "2024-07-26T07:56:09.460362Z"
    }
   },
   "cell_type": "code",
   "source": [
    "import torch\n",
    "from torch.utils.data import DataLoader\n",
    "from torch.utils.data import TensorDataset\n",
    "# data = MyDataset(mfcc_dataset['test'])\n",
    "\n",
    "\n",
    "dataT = TensorDataset(torch.tensor(mfcc_dataset['test'][\"mfcc\"]))\n",
    "dataLoader = DataLoader(dataT, batch_size=64, shuffle=True, collate_fn=collate_fn)"
   ],
   "id": "16da448570f15846",
   "outputs": [
    {
     "ename": "KeyboardInterrupt",
     "evalue": "",
     "output_type": "error",
     "traceback": [
      "\u001B[1;31m---------------------------------------------------------------------------\u001B[0m",
      "\u001B[1;31mKeyboardInterrupt\u001B[0m                         Traceback (most recent call last)",
      "Cell \u001B[1;32mIn[15], line 8\u001B[0m\n\u001B[0;32m      4\u001B[0m \u001B[38;5;66;03m# data = MyDataset(mfcc_dataset['test'])\u001B[39;00m\n\u001B[0;32m      7\u001B[0m dataT \u001B[38;5;241m=\u001B[39m TensorDataset(torch\u001B[38;5;241m.\u001B[39mtensor(mfcc_dataset[\u001B[38;5;124m'\u001B[39m\u001B[38;5;124mtest\u001B[39m\u001B[38;5;124m'\u001B[39m][\u001B[38;5;124m\"\u001B[39m\u001B[38;5;124mmfcc\u001B[39m\u001B[38;5;124m\"\u001B[39m]))\n\u001B[1;32m----> 8\u001B[0m dataLoader \u001B[38;5;241m=\u001B[39m \u001B[43mDataLoader\u001B[49m(dataT, batch_size\u001B[38;5;241m=\u001B[39m\u001B[38;5;241m64\u001B[39m, shuffle\u001B[38;5;241m=\u001B[39m\u001B[38;5;28;01mTrue\u001B[39;00m, collate_fn\u001B[38;5;241m=\u001B[39mcollate_fn)\n",
      "Cell \u001B[1;32mIn[15], line 8\u001B[0m\n\u001B[0;32m      4\u001B[0m \u001B[38;5;66;03m# data = MyDataset(mfcc_dataset['test'])\u001B[39;00m\n\u001B[0;32m      7\u001B[0m dataT \u001B[38;5;241m=\u001B[39m TensorDataset(torch\u001B[38;5;241m.\u001B[39mtensor(mfcc_dataset[\u001B[38;5;124m'\u001B[39m\u001B[38;5;124mtest\u001B[39m\u001B[38;5;124m'\u001B[39m][\u001B[38;5;124m\"\u001B[39m\u001B[38;5;124mmfcc\u001B[39m\u001B[38;5;124m\"\u001B[39m]))\n\u001B[1;32m----> 8\u001B[0m dataLoader \u001B[38;5;241m=\u001B[39m \u001B[43mDataLoader\u001B[49m(dataT, batch_size\u001B[38;5;241m=\u001B[39m\u001B[38;5;241m64\u001B[39m, shuffle\u001B[38;5;241m=\u001B[39m\u001B[38;5;28;01mTrue\u001B[39;00m, collate_fn\u001B[38;5;241m=\u001B[39mcollate_fn)\n",
      "File \u001B[1;32m_pydevd_bundle\\pydevd_cython_win32_310_64.pyx:1187\u001B[0m, in \u001B[0;36m_pydevd_bundle.pydevd_cython_win32_310_64.SafeCallWrapper.__call__\u001B[1;34m()\u001B[0m\n",
      "File \u001B[1;32m_pydevd_bundle\\pydevd_cython_win32_310_64.pyx:627\u001B[0m, in \u001B[0;36m_pydevd_bundle.pydevd_cython_win32_310_64.PyDBFrame.trace_dispatch\u001B[1;34m()\u001B[0m\n",
      "File \u001B[1;32m_pydevd_bundle\\pydevd_cython_win32_310_64.pyx:937\u001B[0m, in \u001B[0;36m_pydevd_bundle.pydevd_cython_win32_310_64.PyDBFrame.trace_dispatch\u001B[1;34m()\u001B[0m\n",
      "File \u001B[1;32m_pydevd_bundle\\pydevd_cython_win32_310_64.pyx:928\u001B[0m, in \u001B[0;36m_pydevd_bundle.pydevd_cython_win32_310_64.PyDBFrame.trace_dispatch\u001B[1;34m()\u001B[0m\n",
      "File \u001B[1;32m_pydevd_bundle\\pydevd_cython_win32_310_64.pyx:585\u001B[0m, in \u001B[0;36m_pydevd_bundle.pydevd_cython_win32_310_64.PyDBFrame.do_wait_suspend\u001B[1;34m()\u001B[0m\n",
      "File \u001B[1;32m~\\AppData\\Local\\Programs\\PyCharm Professional\\plugins\\python\\helpers\\pydev\\pydevd.py:1201\u001B[0m, in \u001B[0;36mPyDB.do_wait_suspend\u001B[1;34m(self, thread, frame, event, arg, send_suspend_message, is_unhandled_exception)\u001B[0m\n\u001B[0;32m   1198\u001B[0m         from_this_thread\u001B[38;5;241m.\u001B[39mappend(frame_id)\n\u001B[0;32m   1200\u001B[0m \u001B[38;5;28;01mwith\u001B[39;00m \u001B[38;5;28mself\u001B[39m\u001B[38;5;241m.\u001B[39m_threads_suspended_single_notification\u001B[38;5;241m.\u001B[39mnotify_thread_suspended(thread_id, stop_reason):\n\u001B[1;32m-> 1201\u001B[0m     \u001B[38;5;28;43mself\u001B[39;49m\u001B[38;5;241;43m.\u001B[39;49m\u001B[43m_do_wait_suspend\u001B[49m\u001B[43m(\u001B[49m\u001B[43mthread\u001B[49m\u001B[43m,\u001B[49m\u001B[43m \u001B[49m\u001B[43mframe\u001B[49m\u001B[43m,\u001B[49m\u001B[43m \u001B[49m\u001B[43mevent\u001B[49m\u001B[43m,\u001B[49m\u001B[43m \u001B[49m\u001B[43marg\u001B[49m\u001B[43m,\u001B[49m\u001B[43m \u001B[49m\u001B[43msuspend_type\u001B[49m\u001B[43m,\u001B[49m\u001B[43m \u001B[49m\u001B[43mfrom_this_thread\u001B[49m\u001B[43m)\u001B[49m\n",
      "File \u001B[1;32m~\\AppData\\Local\\Programs\\PyCharm Professional\\plugins\\python\\helpers\\pydev\\pydevd.py:1216\u001B[0m, in \u001B[0;36mPyDB._do_wait_suspend\u001B[1;34m(self, thread, frame, event, arg, suspend_type, from_this_thread)\u001B[0m\n\u001B[0;32m   1213\u001B[0m             \u001B[38;5;28mself\u001B[39m\u001B[38;5;241m.\u001B[39m_call_mpl_hook()\n\u001B[0;32m   1215\u001B[0m         \u001B[38;5;28mself\u001B[39m\u001B[38;5;241m.\u001B[39mprocess_internal_commands()\n\u001B[1;32m-> 1216\u001B[0m         \u001B[43mtime\u001B[49m\u001B[38;5;241;43m.\u001B[39;49m\u001B[43msleep\u001B[49m\u001B[43m(\u001B[49m\u001B[38;5;241;43m0.01\u001B[39;49m\u001B[43m)\u001B[49m\n\u001B[0;32m   1218\u001B[0m \u001B[38;5;28mself\u001B[39m\u001B[38;5;241m.\u001B[39mcancel_async_evaluation(get_current_thread_id(thread), \u001B[38;5;28mstr\u001B[39m(\u001B[38;5;28mid\u001B[39m(frame)))\n\u001B[0;32m   1220\u001B[0m \u001B[38;5;66;03m# process any stepping instructions\u001B[39;00m\n",
      "\u001B[1;31mKeyboardInterrupt\u001B[0m: "
     ]
    }
   ],
   "execution_count": 15
  },
  {
   "metadata": {
    "ExecuteTime": {
     "end_time": "2024-07-25T19:50:37.173907Z",
     "start_time": "2024-07-25T19:50:35.627907Z"
    }
   },
   "cell_type": "code",
   "source": [
    "import torch\n",
    "for batch in dataLoader:\n",
    "    x, y = batch\n",
    "    print(x.shape)"
   ],
   "id": "87df42d6ef2772cf",
   "outputs": [
    {
     "name": "stdout",
     "output_type": "stream",
     "text": [
      "torch.Size([64, 13, 32])\n",
      "torch.Size([64, 13, 32])\n",
      "torch.Size([64, 13, 32])\n",
      "torch.Size([64, 13, 32])\n",
      "torch.Size([64, 13, 32])\n",
      "torch.Size([64, 13, 32])\n",
      "torch.Size([64, 13, 32])\n",
      "torch.Size([64, 13, 32])\n",
      "torch.Size([64, 13, 32])\n",
      "torch.Size([64, 13, 32])\n",
      "torch.Size([64, 13, 32])\n",
      "torch.Size([64, 13, 32])\n",
      "torch.Size([64, 13, 32])\n",
      "torch.Size([64, 13, 32])\n",
      "torch.Size([64, 13, 32])\n",
      "torch.Size([40, 13, 32])\n"
     ]
    }
   ],
   "execution_count": 26
  }
 ],
 "metadata": {
  "kernelspec": {
   "display_name": "Python 3",
   "language": "python",
   "name": "python3"
  },
  "language_info": {
   "codemirror_mode": {
    "name": "ipython",
    "version": 2
   },
   "file_extension": ".py",
   "mimetype": "text/x-python",
   "name": "python",
   "nbconvert_exporter": "python",
   "pygments_lexer": "ipython2",
   "version": "2.7.6"
  }
 },
 "nbformat": 4,
 "nbformat_minor": 5
}
